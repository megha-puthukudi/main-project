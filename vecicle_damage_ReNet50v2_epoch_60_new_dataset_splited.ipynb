{
  "nbformat": 4,
  "nbformat_minor": 0,
  "metadata": {
    "colab": {
      "provenance": [],
      "gpuType": "T4",
      "mount_file_id": "1FLnMTpxqbGR83DcytNiyFYvezwqfHmaF",
      "authorship_tag": "ABX9TyM/eUCDvOUHyjIMh8mxg7rz",
      "include_colab_link": true
    },
    "kernelspec": {
      "name": "python3",
      "display_name": "Python 3"
    },
    "language_info": {
      "name": "python"
    },
    "accelerator": "GPU"
  },
  "cells": [
    {
      "cell_type": "markdown",
      "metadata": {
        "id": "view-in-github",
        "colab_type": "text"
      },
      "source": [
        "<a href=\"https://colab.research.google.com/github/megha-puthukudi/main-project/blob/ResNet50V2/vecicle_damage_ReNet50v2_epoch_60_new_dataset_splited.ipynb\" target=\"_parent\"><img src=\"https://colab.research.google.com/assets/colab-badge.svg\" alt=\"Open In Colab\"/></a>"
      ]
    },
    {
      "cell_type": "code",
      "execution_count": 2,
      "metadata": {
        "id": "NazYFoLnc9ee"
      },
      "outputs": [],
      "source": [
        "import os\n",
        "import numpy as np\n",
        "import tensorflow as tf\n",
        "from tensorflow.keras.preprocessing.image import ImageDataGenerator\n",
        "from tensorflow.keras.applications import ResNet50V2\n",
        "from keras.applications.resnet_v2 import preprocess_input\n",
        "from tensorflow.keras.layers import Dense, GlobalAveragePooling2D, Dropout\n",
        "from tensorflow.keras.models import Model\n",
        "from tensorflow.keras.models import Model\n",
        "from tensorflow.keras.optimizers import Adam\n",
        "import matplotlib.pyplot as plt\n",
        "from sklearn.metrics import recall_score, precision_score, f1_score, confusion_matrix\n",
        "import seaborn as sns  # Added seaborn for visualization\n",
        "\n",
        "# Define your data directories\n",
        "train_dir = '/content/drive/MyDrive/new dataset/train'\n",
        "val_dir = '/content/drive/MyDrive/new dataset/validation'\n",
        "test_dir = '/content/drive/MyDrive/new dataset/test'"
      ]
    },
    {
      "cell_type": "code",
      "source": [
        "# Define image size and batch size\n",
        "img_size = (224, 224)\n",
        "batch_size = 16"
      ],
      "metadata": {
        "id": "oNuaR6Ikdl34"
      },
      "execution_count": 3,
      "outputs": []
    },
    {
      "cell_type": "code",
      "source": [
        "# Create data generators\n",
        "train_datagen = ImageDataGenerator(\n",
        "    preprocessing_function=preprocess_input,\n",
        "    rotation_range=30,\n",
        "    width_shift_range=0.2,\n",
        "    height_shift_range=0.2,\n",
        "    shear_range=0.2,\n",
        "    zoom_range=0.2,\n",
        "    horizontal_flip=True,\n",
        "    fill_mode='nearest'\n",
        ")\n",
        "\n",
        "val_datagen = ImageDataGenerator(rescale=1./255)\n",
        "test_datagen = ImageDataGenerator(rescale=1./255)\n",
        "\n",
        "train_generator = train_datagen.flow_from_directory(\n",
        "    train_dir,\n",
        "    target_size=img_size,\n",
        "    batch_size=batch_size,\n",
        "    class_mode='categorical'\n",
        ")\n",
        "\n",
        "val_generator = val_datagen.flow_from_directory(\n",
        "    val_dir,\n",
        "    target_size=img_size,\n",
        "    batch_size=batch_size,\n",
        "    class_mode='categorical'\n",
        ")\n",
        "\n",
        "test_generator = test_datagen.flow_from_directory(\n",
        "    test_dir,\n",
        "    target_size=img_size,\n",
        "    batch_size=batch_size,\n",
        "    class_mode='categorical'\n",
        ")"
      ],
      "metadata": {
        "colab": {
          "base_uri": "https://localhost:8080/"
        },
        "id": "EPERWB7RdteI",
        "outputId": "de15cfe6-2b6f-4a85-c593-b44a876d11f3"
      },
      "execution_count": 4,
      "outputs": [
        {
          "output_type": "stream",
          "name": "stdout",
          "text": [
            "Found 600 images belonging to 2 classes.\n",
            "Found 90 images belonging to 2 classes.\n",
            "Found 80 images belonging to 2 classes.\n"
          ]
        }
      ]
    },
    {
      "cell_type": "code",
      "source": [
        "# Load the pre-trained ResNet50V2 model\n",
        "base_model = ResNet50V2(weights='imagenet', include_top=False, input_shape=(224, 224, 3))\n",
        "\n",
        "# Add a global average pooling layer and a dense layer for classification\n",
        "x = GlobalAveragePooling2D()(base_model.output)\n",
        "predictions = Dense(2, activation='softmax')(x)  # Assuming 2 classes\n",
        "\n",
        "# Create the model\n",
        "model = Model(inputs=base_model.input, outputs=predictions)\n"
      ],
      "metadata": {
        "colab": {
          "base_uri": "https://localhost:8080/"
        },
        "id": "ZAXQMgKOeaDX",
        "outputId": "a0786c7f-7243-4f3f-ee10-9be40fbfcb32"
      },
      "execution_count": 5,
      "outputs": [
        {
          "output_type": "stream",
          "name": "stdout",
          "text": [
            "Downloading data from https://storage.googleapis.com/tensorflow/keras-applications/resnet/resnet50v2_weights_tf_dim_ordering_tf_kernels_notop.h5\n",
            "94668760/94668760 [==============================] - 1s 0us/step\n"
          ]
        }
      ]
    },
    {
      "cell_type": "code",
      "source": [
        "# Freeze the layers in the base model\n",
        "for layer in base_model.layers:\n",
        "    layer.trainable = False"
      ],
      "metadata": {
        "id": "N8O6ARWQekMm"
      },
      "execution_count": 6,
      "outputs": []
    },
    {
      "cell_type": "code",
      "source": [
        "\n",
        "# Compile the model\n",
        "model.compile(optimizer=Adam(learning_rate=0.0001), loss='categorical_crossentropy', metrics=['accuracy'])"
      ],
      "metadata": {
        "id": "8Jdk4iyleo0R"
      },
      "execution_count": 7,
      "outputs": []
    },
    {
      "cell_type": "code",
      "source": [
        "# Train the model\n",
        "history = model.fit(\n",
        "    train_generator,\n",
        "    steps_per_epoch=train_generator.n // batch_size,\n",
        "    epochs=60,\n",
        "    validation_data=val_generator,\n",
        "    validation_steps=val_generator.n // batch_size\n",
        ")"
      ],
      "metadata": {
        "colab": {
          "base_uri": "https://localhost:8080/"
        },
        "id": "iUEfFIPyervR",
        "outputId": "79ecb08c-13b5-4b6a-e2ec-a25569701474"
      },
      "execution_count": 8,
      "outputs": [
        {
          "output_type": "stream",
          "name": "stdout",
          "text": [
            "Epoch 1/60\n",
            "37/37 [==============================] - 164s 4s/step - loss: 0.8992 - accuracy: 0.5017 - val_loss: 0.6604 - val_accuracy: 0.6250\n",
            "Epoch 2/60\n",
            "37/37 [==============================] - 11s 290ms/step - loss: 0.6484 - accuracy: 0.6267 - val_loss: 0.5563 - val_accuracy: 0.7125\n",
            "Epoch 3/60\n",
            "37/37 [==============================] - 11s 290ms/step - loss: 0.5167 - accuracy: 0.7397 - val_loss: 0.4335 - val_accuracy: 0.8000\n",
            "Epoch 4/60\n",
            "37/37 [==============================] - 10s 263ms/step - loss: 0.4642 - accuracy: 0.7894 - val_loss: 0.4109 - val_accuracy: 0.8375\n",
            "Epoch 5/60\n",
            "37/37 [==============================] - 10s 270ms/step - loss: 0.3896 - accuracy: 0.8425 - val_loss: 0.3780 - val_accuracy: 0.8625\n",
            "Epoch 6/60\n",
            "37/37 [==============================] - 11s 298ms/step - loss: 0.3520 - accuracy: 0.8596 - val_loss: 0.3435 - val_accuracy: 0.8875\n",
            "Epoch 7/60\n",
            "37/37 [==============================] - 10s 283ms/step - loss: 0.3444 - accuracy: 0.8596 - val_loss: 0.3423 - val_accuracy: 0.8750\n",
            "Epoch 8/60\n",
            "37/37 [==============================] - 11s 293ms/step - loss: 0.3417 - accuracy: 0.8442 - val_loss: 0.3482 - val_accuracy: 0.8875\n",
            "Epoch 9/60\n",
            "37/37 [==============================] - 11s 285ms/step - loss: 0.3181 - accuracy: 0.8818 - val_loss: 0.3281 - val_accuracy: 0.8750\n",
            "Epoch 10/60\n",
            "37/37 [==============================] - 11s 286ms/step - loss: 0.3081 - accuracy: 0.8853 - val_loss: 0.2986 - val_accuracy: 0.8875\n",
            "Epoch 11/60\n",
            "37/37 [==============================] - 10s 283ms/step - loss: 0.3039 - accuracy: 0.8664 - val_loss: 0.2889 - val_accuracy: 0.8875\n",
            "Epoch 12/60\n",
            "37/37 [==============================] - 10s 282ms/step - loss: 0.2639 - accuracy: 0.9024 - val_loss: 0.3075 - val_accuracy: 0.8875\n",
            "Epoch 13/60\n",
            "37/37 [==============================] - 10s 262ms/step - loss: 0.2546 - accuracy: 0.8853 - val_loss: 0.3370 - val_accuracy: 0.8500\n",
            "Epoch 14/60\n",
            "37/37 [==============================] - 11s 288ms/step - loss: 0.2527 - accuracy: 0.9054 - val_loss: 0.3208 - val_accuracy: 0.8625\n",
            "Epoch 15/60\n",
            "37/37 [==============================] - 11s 292ms/step - loss: 0.2564 - accuracy: 0.8953 - val_loss: 0.2847 - val_accuracy: 0.8750\n",
            "Epoch 16/60\n",
            "37/37 [==============================] - 10s 281ms/step - loss: 0.2542 - accuracy: 0.9007 - val_loss: 0.3030 - val_accuracy: 0.8625\n",
            "Epoch 17/60\n",
            "37/37 [==============================] - 10s 266ms/step - loss: 0.2454 - accuracy: 0.9127 - val_loss: 0.2847 - val_accuracy: 0.8625\n",
            "Epoch 18/60\n",
            "37/37 [==============================] - 11s 294ms/step - loss: 0.2469 - accuracy: 0.8938 - val_loss: 0.2823 - val_accuracy: 0.8750\n",
            "Epoch 19/60\n",
            "37/37 [==============================] - 11s 285ms/step - loss: 0.2203 - accuracy: 0.9144 - val_loss: 0.2682 - val_accuracy: 0.8750\n",
            "Epoch 20/60\n",
            "37/37 [==============================] - 11s 290ms/step - loss: 0.2399 - accuracy: 0.9144 - val_loss: 0.2880 - val_accuracy: 0.8625\n",
            "Epoch 21/60\n",
            "37/37 [==============================] - 10s 275ms/step - loss: 0.2469 - accuracy: 0.8955 - val_loss: 0.2954 - val_accuracy: 0.8750\n",
            "Epoch 22/60\n",
            "37/37 [==============================] - 10s 271ms/step - loss: 0.2024 - accuracy: 0.9178 - val_loss: 0.2769 - val_accuracy: 0.8750\n",
            "Epoch 23/60\n",
            "37/37 [==============================] - 11s 288ms/step - loss: 0.1987 - accuracy: 0.9212 - val_loss: 0.2876 - val_accuracy: 0.8875\n",
            "Epoch 24/60\n",
            "37/37 [==============================] - 11s 294ms/step - loss: 0.2088 - accuracy: 0.9178 - val_loss: 0.2779 - val_accuracy: 0.8750\n",
            "Epoch 25/60\n",
            "37/37 [==============================] - 11s 290ms/step - loss: 0.1992 - accuracy: 0.9212 - val_loss: 0.2527 - val_accuracy: 0.8875\n",
            "Epoch 26/60\n",
            "37/37 [==============================] - 10s 262ms/step - loss: 0.2015 - accuracy: 0.9139 - val_loss: 0.2592 - val_accuracy: 0.9000\n",
            "Epoch 27/60\n",
            "37/37 [==============================] - 10s 270ms/step - loss: 0.2161 - accuracy: 0.9229 - val_loss: 0.2595 - val_accuracy: 0.9250\n",
            "Epoch 28/60\n",
            "37/37 [==============================] - 11s 291ms/step - loss: 0.2029 - accuracy: 0.9212 - val_loss: 0.2610 - val_accuracy: 0.9000\n",
            "Epoch 29/60\n",
            "37/37 [==============================] - 11s 288ms/step - loss: 0.1999 - accuracy: 0.9195 - val_loss: 0.2377 - val_accuracy: 0.9000\n",
            "Epoch 30/60\n",
            "37/37 [==============================] - 11s 294ms/step - loss: 0.1967 - accuracy: 0.9212 - val_loss: 0.2576 - val_accuracy: 0.9000\n",
            "Epoch 31/60\n",
            "37/37 [==============================] - 10s 279ms/step - loss: 0.1919 - accuracy: 0.9212 - val_loss: 0.2735 - val_accuracy: 0.8875\n",
            "Epoch 32/60\n",
            "37/37 [==============================] - 11s 285ms/step - loss: 0.1976 - accuracy: 0.9281 - val_loss: 0.2466 - val_accuracy: 0.9125\n",
            "Epoch 33/60\n",
            "37/37 [==============================] - 11s 287ms/step - loss: 0.1520 - accuracy: 0.9486 - val_loss: 0.2621 - val_accuracy: 0.8875\n",
            "Epoch 34/60\n",
            "37/37 [==============================] - 11s 285ms/step - loss: 0.1801 - accuracy: 0.9332 - val_loss: 0.2565 - val_accuracy: 0.9125\n",
            "Epoch 35/60\n",
            "37/37 [==============================] - 10s 256ms/step - loss: 0.1615 - accuracy: 0.9435 - val_loss: 0.2717 - val_accuracy: 0.8875\n",
            "Epoch 36/60\n",
            "37/37 [==============================] - 11s 288ms/step - loss: 0.1697 - accuracy: 0.9281 - val_loss: 0.2627 - val_accuracy: 0.9000\n",
            "Epoch 37/60\n",
            "37/37 [==============================] - 11s 286ms/step - loss: 0.1736 - accuracy: 0.9384 - val_loss: 0.2347 - val_accuracy: 0.9000\n",
            "Epoch 38/60\n",
            "37/37 [==============================] - 10s 280ms/step - loss: 0.1716 - accuracy: 0.9332 - val_loss: 0.2788 - val_accuracy: 0.8750\n",
            "Epoch 39/60\n",
            "37/37 [==============================] - 10s 273ms/step - loss: 0.1533 - accuracy: 0.9486 - val_loss: 0.2204 - val_accuracy: 0.9000\n",
            "Epoch 40/60\n",
            "37/37 [==============================] - 10s 278ms/step - loss: 0.1677 - accuracy: 0.9349 - val_loss: 0.2691 - val_accuracy: 0.9000\n",
            "Epoch 41/60\n",
            "37/37 [==============================] - 11s 288ms/step - loss: 0.1496 - accuracy: 0.9426 - val_loss: 0.2587 - val_accuracy: 0.8875\n",
            "Epoch 42/60\n",
            "37/37 [==============================] - 10s 258ms/step - loss: 0.1647 - accuracy: 0.9384 - val_loss: 0.2613 - val_accuracy: 0.8875\n",
            "Epoch 43/60\n",
            "37/37 [==============================] - 10s 256ms/step - loss: 0.1529 - accuracy: 0.9452 - val_loss: 0.2545 - val_accuracy: 0.8875\n",
            "Epoch 44/60\n",
            "37/37 [==============================] - 11s 286ms/step - loss: 0.1598 - accuracy: 0.9521 - val_loss: 0.2271 - val_accuracy: 0.8875\n",
            "Epoch 45/60\n",
            "37/37 [==============================] - 10s 281ms/step - loss: 0.1497 - accuracy: 0.9469 - val_loss: 0.2416 - val_accuracy: 0.8875\n",
            "Epoch 46/60\n",
            "37/37 [==============================] - 10s 280ms/step - loss: 0.1697 - accuracy: 0.9366 - val_loss: 0.2593 - val_accuracy: 0.8750\n",
            "Epoch 47/60\n",
            "37/37 [==============================] - 9s 254ms/step - loss: 0.1492 - accuracy: 0.9435 - val_loss: 0.2449 - val_accuracy: 0.9000\n",
            "Epoch 48/60\n",
            "37/37 [==============================] - 10s 269ms/step - loss: 0.1551 - accuracy: 0.9366 - val_loss: 0.2558 - val_accuracy: 0.8875\n",
            "Epoch 49/60\n",
            "37/37 [==============================] - 10s 283ms/step - loss: 0.1604 - accuracy: 0.9264 - val_loss: 0.2588 - val_accuracy: 0.8750\n",
            "Epoch 50/60\n",
            "37/37 [==============================] - 11s 284ms/step - loss: 0.1507 - accuracy: 0.9401 - val_loss: 0.2634 - val_accuracy: 0.8750\n",
            "Epoch 51/60\n",
            "37/37 [==============================] - 10s 269ms/step - loss: 0.1322 - accuracy: 0.9521 - val_loss: 0.2413 - val_accuracy: 0.8875\n",
            "Epoch 52/60\n",
            "37/37 [==============================] - 10s 265ms/step - loss: 0.1386 - accuracy: 0.9452 - val_loss: 0.2662 - val_accuracy: 0.8750\n",
            "Epoch 53/60\n",
            "37/37 [==============================] - 11s 292ms/step - loss: 0.1354 - accuracy: 0.9538 - val_loss: 0.2694 - val_accuracy: 0.8750\n",
            "Epoch 54/60\n",
            "37/37 [==============================] - 11s 288ms/step - loss: 0.1398 - accuracy: 0.9521 - val_loss: 0.2656 - val_accuracy: 0.8875\n",
            "Epoch 55/60\n",
            "37/37 [==============================] - 10s 274ms/step - loss: 0.1443 - accuracy: 0.9469 - val_loss: 0.2703 - val_accuracy: 0.8875\n",
            "Epoch 56/60\n",
            "37/37 [==============================] - 10s 262ms/step - loss: 0.1474 - accuracy: 0.9452 - val_loss: 0.2320 - val_accuracy: 0.9000\n",
            "Epoch 57/60\n",
            "37/37 [==============================] - 10s 282ms/step - loss: 0.1337 - accuracy: 0.9503 - val_loss: 0.2495 - val_accuracy: 0.9000\n",
            "Epoch 58/60\n",
            "37/37 [==============================] - 11s 286ms/step - loss: 0.1223 - accuracy: 0.9589 - val_loss: 0.2543 - val_accuracy: 0.9000\n",
            "Epoch 59/60\n",
            "37/37 [==============================] - 11s 285ms/step - loss: 0.1450 - accuracy: 0.9452 - val_loss: 0.2569 - val_accuracy: 0.9000\n",
            "Epoch 60/60\n",
            "37/37 [==============================] - 10s 279ms/step - loss: 0.1262 - accuracy: 0.9521 - val_loss: 0.2425 - val_accuracy: 0.9000\n"
          ]
        }
      ]
    },
    {
      "cell_type": "code",
      "source": [
        "# Evaluate the model on the test data\n",
        "test_loss, test_accuracy = model.evaluate(test_generator, steps=test_generator.n // batch_size)\n",
        "train_loss, train_accuracy = model.evaluate(train_generator, steps=train_generator.n // batch_size)\n"
      ],
      "metadata": {
        "colab": {
          "base_uri": "https://localhost:8080/"
        },
        "id": "xyeuq9kjkvzL",
        "outputId": "0b363e51-854f-4a73-d3aa-ca7b9ccefc43"
      },
      "execution_count": 9,
      "outputs": [
        {
          "output_type": "stream",
          "name": "stdout",
          "text": [
            "5/5 [==============================] - 23s 6s/step - loss: 0.2554 - accuracy: 0.8625\n",
            "37/37 [==============================] - 10s 263ms/step - loss: 0.1347 - accuracy: 0.9544\n"
          ]
        }
      ]
    },
    {
      "cell_type": "code",
      "source": [
        "\n",
        "# Calculate recall\n",
        "y_true = []\n",
        "y_pred = []\n",
        "for i in range(test_generator.n // batch_size):\n",
        "    batch_x, batch_y = next(test_generator)\n",
        "    y_true.extend(np.argmax(batch_y, axis=1))\n",
        "    y_pred.extend(np.argmax(model.predict(batch_x), axis=1))"
      ],
      "metadata": {
        "colab": {
          "base_uri": "https://localhost:8080/"
        },
        "id": "BCQnhUwlkyzw",
        "outputId": "86ab2c42-2dad-4f36-fec0-570afde4e77f"
      },
      "execution_count": 10,
      "outputs": [
        {
          "output_type": "stream",
          "name": "stdout",
          "text": [
            "1/1 [==============================] - 1s 843ms/step\n",
            "1/1 [==============================] - 0s 28ms/step\n",
            "1/1 [==============================] - 0s 40ms/step\n",
            "1/1 [==============================] - 0s 33ms/step\n",
            "1/1 [==============================] - 0s 30ms/step\n"
          ]
        }
      ]
    },
    {
      "cell_type": "code",
      "source": [
        "# Calculate confusion matrix\n",
        "cm = confusion_matrix(y_true, y_pred)\n",
        "\n",
        "# Visualize the confusion matrix as a heatmap\n",
        "plt.figure(figsize=(8, 6))\n",
        "sns.heatmap(cm, annot=True, fmt='d', cmap='Blues', xticklabels=['car','damaged car'], yticklabels=['car','damaged car'])\n",
        "plt.title('Confusion Matrix')\n",
        "plt.xlabel('Predicted')\n",
        "plt.ylabel('Actual')\n",
        "plt.show()"
      ],
      "metadata": {
        "colab": {
          "base_uri": "https://localhost:8080/",
          "height": 564
        },
        "id": "ej5LP_DFlKwD",
        "outputId": "446900f7-3068-43d4-c47b-5ad3e80b797a"
      },
      "execution_count": 11,
      "outputs": [
        {
          "output_type": "display_data",
          "data": {
            "text/plain": [
              "<Figure size 800x600 with 2 Axes>"
            ],
            "image/png": "[encoded data removed]"
          },
          "metadata": {}
        }
      ]
    },
    {
      "cell_type": "code",
      "source": [
        "# Calculate other metrics\n",
        "recall = recall_score(y_true, y_pred, average='macro')\n",
        "precision = precision_score(y_true, y_pred, average='macro')\n",
        "f1 = f1_score(y_true, y_pred, average='macro')"
      ],
      "metadata": {
        "id": "POjWSrOYlQ-g"
      },
      "execution_count": 12,
      "outputs": []
    },
    {
      "cell_type": "code",
      "source": [
        "# Display metrics\n",
        "print(f'Test loss: {test_loss:.4f}')\n",
        "print(f'Test accuracy: {test_accuracy * 100:.2f}')\n",
        "print(f'Train loss: {train_loss:.4f}')\n",
        "print(f'Train accuracy: {train_accuracy * 100:.2f}')\n",
        "print(f'Recall: {recall:.2f}')\n",
        "print(f'Precision: {precision:.2f}')\n",
        "print(f'F1-score: {f1:.2f}')\n",
        "\n",
        "# Save the trained model\n",
        "model.save('/content/drive/MyDrive/colabtest/vecicle_damage_ReNet50v2_epoch_60_new_dataset.h5')"
      ],
      "metadata": {
        "colab": {
          "base_uri": "https://localhost:8080/"
        },
        "id": "KZeE6Ez0lUdH",
        "outputId": "c6ae66b7-0cbc-45f8-f891-1a5bf809da3c"
      },
      "execution_count": 13,
      "outputs": [
        {
          "output_type": "stream",
          "name": "stdout",
          "text": [
            "Test loss: 0.2554\n",
            "Test accuracy: 86.25\n",
            "Train loss: 0.1347\n",
            "Train accuracy: 95.44\n",
            "Recall: 0.86\n",
            "Precision: 0.86\n",
            "F1-score: 0.86\n"
          ]
        },
        {
          "output_type": "stream",
          "name": "stderr",
          "text": [
            "/usr/local/lib/python3.10/dist-packages/keras/src/engine/training.py:3103: UserWarning: You are saving your model as an HDF5 file via `model.save()`. This file format is considered legacy. We recommend using instead the native Keras format, e.g. `model.save('my_model.keras')`.\n",
            "  saving_api.save_model(\n"
          ]
        }
      ]
    }
  ]
}