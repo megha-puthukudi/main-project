{
  "cells": [
    {
      "cell_type": "markdown",
      "metadata": {
        "id": "view-in-github",
        "colab_type": "text"
      },
      "source": [
        "<a href=\"https://colab.research.google.com/github/megha-puthukudi/main-project/blob/VGG19_SEVERE/vgg19_severity_try_with_10epochs.ipynb\" target=\"_parent\"><img src=\"https://colab.research.google.com/assets/colab-badge.svg\" alt=\"Open In Colab\"/></a>"
      ]
    },
    {
      "cell_type": "code",
      "execution_count": null,
      "metadata": {
        "colab": {
          "background_save": true,
          "base_uri": "https://localhost:8080/"
        },
        "id": "LA3xtYRQjh7N",
        "outputId": "bda82426-96f5-47c6-ebcc-da43757216de"
      },
      "outputs": [
        {
          "name": "stdout",
          "output_type": "stream",
          "text": [
            "Found 840 images belonging to 3 classes.\n",
            "Found 180 images belonging to 3 classes.\n",
            "Found 180 images belonging to 3 classes.\n",
            "Downloading data from https://storage.googleapis.com/tensorflow/keras-applications/vgg19/vgg19_weights_tf_dim_ordering_tf_kernels_notop.h5\n",
            "80134624/80134624 [==============================] - 3s 0us/step\n"
          ]
        },
        {
          "name": "stderr",
          "output_type": "stream",
          "text": [
            "WARNING:absl:`lr` is deprecated in Keras optimizer, please use `learning_rate` or use the legacy optimizer, e.g.,tf.keras.optimizers.legacy.Adam.\n"
          ]
        },
        {
          "name": "stdout",
          "output_type": "stream",
          "text": [
            "Epoch 1/10\n",
            "52/52 [==============================] - 719s 14s/step - loss: 2.3717 - accuracy: 0.4393 - val_loss: 0.9460 - val_accuracy: 0.4318\n",
            "Epoch 2/10\n",
            "52/52 [==============================] - 710s 14s/step - loss: 0.7213 - accuracy: 0.6893 - val_loss: 0.7429 - val_accuracy: 0.6420\n",
            "Epoch 3/10\n",
            "52/52 [==============================] - 697s 13s/step - loss: 0.6886 - accuracy: 0.6990 - val_loss: 0.8469 - val_accuracy: 0.6534\n",
            "Epoch 4/10\n",
            "52/52 [==============================] - 700s 14s/step - loss: 0.6820 - accuracy: 0.6971 - val_loss: 0.6115 - val_accuracy: 0.7102\n",
            "Epoch 5/10\n",
            "52/52 [==============================] - 693s 13s/step - loss: 0.6238 - accuracy: 0.7269 - val_loss: 0.6917 - val_accuracy: 0.6648\n",
            "Epoch 6/10\n",
            "52/52 [==============================] - 697s 13s/step - loss: 0.6283 - accuracy: 0.7136 - val_loss: 0.7414 - val_accuracy: 0.6250\n",
            "Epoch 7/10\n",
            "52/52 [==============================] - 695s 13s/step - loss: 0.6049 - accuracy: 0.7379 - val_loss: 0.7971 - val_accuracy: 0.6477\n",
            "Epoch 8/10\n",
            "52/52 [==============================] - 668s 13s/step - loss: 0.5466 - accuracy: 0.7682 - val_loss: 0.6376 - val_accuracy: 0.6932\n",
            "Epoch 9/10\n",
            "52/52 [==============================] - 669s 13s/step - loss: 0.5500 - accuracy: 0.7682 - val_loss: 0.6908 - val_accuracy: 0.6761\n",
            "Epoch 10/10\n",
            "52/52 [==============================] - 698s 13s/step - loss: 0.5291 - accuracy: 0.7706 - val_loss: 0.7025 - val_accuracy: 0.6477\n",
            "11/11 [==============================] - 118s 11s/step - loss: 0.7756 - accuracy: 0.6534\n",
            "52/52 [==============================] - 566s 11s/step - loss: 0.4260 - accuracy: 0.8281\n",
            "1/1 [==============================] - 10s 10s/step\n",
            "1/1 [==============================] - 11s 11s/step\n",
            "1/1 [==============================] - 11s 11s/step\n",
            "1/1 [==============================] - 10s 10s/step\n",
            "1/1 [==============================] - 10s 10s/step\n",
            "1/1 [==============================] - 11s 11s/step\n",
            "1/1 [==============================] - 11s 11s/step\n",
            "1/1 [==============================] - 10s 10s/step\n",
            "1/1 [==============================] - 10s 10s/step\n",
            "1/1 [==============================] - 11s 11s/step\n",
            "1/1 [==============================] - 11s 11s/step\n"
          ]
        },
        {
          "data": {
            "image/png": "[encoded data removed]",
            "text/plain": [
              "<Figure size 500x300 with 2 Axes>"
            ]
          },
          "metadata": {},
          "output_type": "display_data"
        },
        {
          "name": "stdout",
          "output_type": "stream",
          "text": [
            "Test loss: 0.7756\n",
            "Test accuracy: 65.34\n",
            "Train loss: 0.4260\n",
            "Train accuracy: 82.81\n",
            "Recall: 0.64\n",
            "Precision: 0.63\n",
            "F1-score: 0.63\n"
          ]
        },
        {
          "name": "stderr",
          "output_type": "stream",
          "text": [
            "/usr/local/lib/python3.10/dist-packages/keras/src/engine/training.py:3103: UserWarning: You are saving your model as an HDF5 file via `model.save()`. This file format is considered legacy. We recommend using instead the native Keras format, e.g. `model.save('my_model.keras')`.\n",
            "  saving_api.save_model(\n"
          ]
        }
      ],
      "source": [
        "import os\n",
        "import numpy as np\n",
        "import tensorflow as tf\n",
        "from tensorflow.keras.preprocessing.image import ImageDataGenerator\n",
        "from tensorflow.keras.applications import VGG19\n",
        "from tensorflow.keras.layers import Dense, Flatten, Dropout\n",
        "from tensorflow.keras.models import Model\n",
        "from tensorflow.keras.optimizers import Adam\n",
        "from tensorflow.keras.callbacks import EarlyStopping, ReduceLROnPlateau\n",
        "import matplotlib.pyplot as plt\n",
        "from sklearn.metrics import recall_score, precision_score, f1_score, confusion_matrix\n",
        "import seaborn as sns\n",
        "\n",
        "# Define your data directories\n",
        "train_dir = '/content/drive/MyDrive/severity main/train'\n",
        "val_dir = '/content/drive/MyDrive/severity main/validation'\n",
        "test_dir = '/content/drive/MyDrive/severity main/test'\n",
        "\n",
        "# Define image size and batch size\n",
        "img_size = (224, 224)\n",
        "batch_size = 16  # Increase batch size for faster convergence\n",
        "\n",
        "# Create data generators with additional augmentation\n",
        "train_datagen = ImageDataGenerator(\n",
        "    rescale=1./255,\n",
        "    rotation_range=20,  # Reduce rotation range\n",
        "    width_shift_range=0.1,  # Reduce shift range\n",
        "    height_shift_range=0.1,  # Reduce shift range\n",
        "    shear_range=0.1,  # Reduce shear range\n",
        "    zoom_range=0.1,  # Reduce zoom range\n",
        "    horizontal_flip=True,\n",
        "    fill_mode='nearest'\n",
        ")\n",
        "\n",
        "val_datagen = ImageDataGenerator(rescale=1./255)\n",
        "test_datagen = ImageDataGenerator(rescale=1./255)\n",
        "\n",
        "train_generator = train_datagen.flow_from_directory(\n",
        "    train_dir,\n",
        "    target_size=img_size,\n",
        "    batch_size=batch_size,\n",
        "    class_mode='categorical'\n",
        ")\n",
        "\n",
        "val_generator = val_datagen.flow_from_directory(\n",
        "    val_dir,\n",
        "    target_size=img_size,\n",
        "    batch_size=batch_size,\n",
        "    class_mode='categorical'\n",
        ")\n",
        "\n",
        "test_generator = test_datagen.flow_from_directory(\n",
        "    test_dir,\n",
        "    target_size=img_size,\n",
        "    batch_size=batch_size,\n",
        "    class_mode='categorical'\n",
        ")\n",
        "\n",
        "# Load the pre-trained VGG19 model\n",
        "base_model = VGG19(weights='imagenet', include_top=False, input_shape=(224, 224, 3))\n",
        "\n",
        "# Add custom layers on top of VGG19\n",
        "x = base_model.output\n",
        "x = Flatten()(x)\n",
        "x = Dense(256, activation='relu')(x)\n",
        "x = Dropout(0.3)(x)  # Reduce dropout rate\n",
        "predictions = Dense(3, activation='softmax')(x)\n",
        "\n",
        "# Create the model\n",
        "model = Model(inputs=base_model.input, outputs=predictions)\n",
        "\n",
        "# Freeze some layers in the base model\n",
        "for layer in base_model.layers:\n",
        "    layer.trainable = False\n",
        "\n",
        "# Compile the model with a smaller learning rate\n",
        "model.compile(optimizer=Adam(lr=1e-5), loss='categorical_crossentropy', metrics=['accuracy'])\n",
        "\n",
        "\n",
        "# Train the model\n",
        "history = model.fit(\n",
        "    train_generator,\n",
        "    steps_per_epoch=train_generator.n // batch_size,\n",
        "    epochs=10,\n",
        "    validation_data=val_generator,\n",
        "    validation_steps=val_generator.n // batch_size,\n",
        ")\n",
        "\n",
        "# Evaluate the model on the test data\n",
        "test_loss, test_accuracy = model.evaluate(test_generator, steps=test_generator.n // batch_size)\n",
        "train_loss, train_accuracy = model.evaluate(train_generator, steps=train_generator.n // batch_size)\n",
        "\n",
        "# Calculate recall\n",
        "y_true = []\n",
        "y_pred = []\n",
        "for i in range(test_generator.n // batch_size):\n",
        "    batch_x, batch_y = next(test_generator)\n",
        "    y_true.extend(np.argmax(batch_y, axis=1))\n",
        "    y_pred.extend(np.argmax(model.predict(batch_x), axis=1))\n",
        "\n",
        "# Calculate confusion matrix\n",
        "cm = confusion_matrix(y_true, y_pred)\n",
        "\n",
        "# Visualize the confusion matrix\n",
        "plt.figure(figsize=(5, 3))\n",
        "sns.heatmap(cm, annot=True, fmt='d', cmap='Blues', xticklabels=['Minor', 'Moderate', 'Severe'], yticklabels=['Minor', 'Moderate', 'Severe'])\n",
        "plt.title('Confusion Matrix')\n",
        "plt.xlabel('Predicted')\n",
        "plt.ylabel('Actual')\n",
        "plt.show()\n",
        "\n",
        "# Calculate other metrics\n",
        "recall = recall_score(y_true, y_pred, average='macro')\n",
        "precision = precision_score(y_true, y_pred, average='macro')\n",
        "f1 = f1_score(y_true, y_pred, average='macro')\n",
        "\n",
        "# Display metrics\n",
        "print(f'Test loss: {test_loss:.4f}')\n",
        "print(f'Test accuracy: {test_accuracy * 100:.2f}')\n",
        "print(f'Train loss: {train_loss:.4f}')\n",
        "print(f'Train accuracy: {train_accuracy * 100:.2f}')\n",
        "print(f'Recall: {recall:.2f}')\n",
        "print(f'Precision: {precision:.2f}')\n",
        "print(f'F1-score: {f1:.2f}')\n",
        "\n",
        "# Save the trained model\n",
        "model.save('/content/drive/MyDrive/colabtest/vecicle_damage_VGG19_severe_try_10epochs_updated.h5')"
      ]
    }
  ],
  "metadata": {
    "accelerator": "GPU",
    "colab": {
      "gpuType": "T4",
      "provenance": [],
      "mount_file_id": "1bwwmX3QsETjwNBd5VDXGpkcpIbKkhwQE",
      "authorship_tag": "ABX9TyMer/u2+RMJRMeSPMezRhIL",
      "include_colab_link": true
    },
    "kernelspec": {
      "display_name": "Python 3",
      "name": "python3"
    },
    "language_info": {
      "name": "python"
    }
  },
  "nbformat": 4,
  "nbformat_minor": 0
}